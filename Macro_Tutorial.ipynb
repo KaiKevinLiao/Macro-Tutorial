{
  "nbformat": 4,
  "nbformat_minor": 0,
  "metadata": {
    "colab": {
      "provenance": [],
      "authorship_tag": "ABX9TyOHTdk4VN775u+mt2c9ew5d",
      "include_colab_link": true
    },
    "kernelspec": {
      "name": "python3",
      "display_name": "Python 3"
    },
    "language_info": {
      "name": "python"
    }
  },
  "cells": [
    {
      "cell_type": "markdown",
      "metadata": {
        "id": "view-in-github",
        "colab_type": "text"
      },
      "source": [
        "<a href=\"https://colab.research.google.com/github/KaiKevinLiao/Macro-Tutorial/blob/main/Macro_Tutorial.ipynb\" target=\"_parent\"><img src=\"https://colab.research.google.com/assets/colab-badge.svg\" alt=\"Open In Colab\"/></a>"
      ]
    },
    {
      "cell_type": "code",
      "execution_count": null,
      "metadata": {
        "id": "Slnpzr_gO07p"
      },
      "outputs": [],
      "source": [
        "import numpy as np\n",
        "import numpy.matlib\n",
        "import matplotlib.pyplot as plt\n",
        "from scipy.optimize import minimize_scalar, minimize, fsolve\n",
        "from scipy.interpolate import interp1d"
      ]
    },
    {
      "cell_type": "code",
      "source": [
        "np.zeros((3,3))"
      ],
      "metadata": {
        "colab": {
          "base_uri": "https://localhost:8080/"
        },
        "id": "DpUwZLMzPsA8",
        "outputId": "a21adad2-15cc-4424-ba3b-272a5d552c37"
      },
      "execution_count": null,
      "outputs": [
        {
          "output_type": "execute_result",
          "data": {
            "text/plain": [
              "array([[0., 0., 0.],\n",
              "       [0., 0., 0.],\n",
              "       [0., 0., 0.]])"
            ]
          },
          "metadata": {},
          "execution_count": 6
        }
      ]
    },
    {
      "cell_type": "code",
      "source": [
        "np.ones((3,3))"
      ],
      "metadata": {
        "colab": {
          "base_uri": "https://localhost:8080/"
        },
        "id": "dnX42RUgP2G1",
        "outputId": "bcf5570d-8293-4bea-e35f-3c3e61490b4a"
      },
      "execution_count": null,
      "outputs": [
        {
          "output_type": "execute_result",
          "data": {
            "text/plain": [
              "array([[1., 1., 1.],\n",
              "       [1., 1., 1.],\n",
              "       [1., 1., 1.]])"
            ]
          },
          "metadata": {},
          "execution_count": 7
        }
      ]
    },
    {
      "cell_type": "code",
      "source": [
        "np.diag([1,2,3])"
      ],
      "metadata": {
        "colab": {
          "base_uri": "https://localhost:8080/"
        },
        "id": "6uHfwQG9P8NX",
        "outputId": "f5a336d9-ad24-42a9-ed60-da4167f96eae"
      },
      "execution_count": null,
      "outputs": [
        {
          "output_type": "execute_result",
          "data": {
            "text/plain": [
              "array([[1, 0, 0],\n",
              "       [0, 2, 0],\n",
              "       [0, 0, 3]])"
            ]
          },
          "metadata": {},
          "execution_count": 8
        }
      ]
    },
    {
      "cell_type": "code",
      "source": [
        "x = np.array([1,2,3,4,5,6])\n",
        "x"
      ],
      "metadata": {
        "colab": {
          "base_uri": "https://localhost:8080/"
        },
        "id": "cKZotXbwQF0x",
        "outputId": "84626501-affe-4227-80b1-a14847b11b94"
      },
      "execution_count": null,
      "outputs": [
        {
          "output_type": "execute_result",
          "data": {
            "text/plain": [
              "array([1, 2, 3, 4, 5, 6])"
            ]
          },
          "metadata": {},
          "execution_count": 9
        }
      ]
    },
    {
      "cell_type": "code",
      "source": [
        "x = x.reshape((2,3))\n",
        "x"
      ],
      "metadata": {
        "colab": {
          "base_uri": "https://localhost:8080/"
        },
        "id": "K-FbsgsUQl7k",
        "outputId": "4715a038-e8f7-4242-d837-17bd1259b090"
      },
      "execution_count": null,
      "outputs": [
        {
          "output_type": "execute_result",
          "data": {
            "text/plain": [
              "array([[1, 2, 3],\n",
              "       [4, 5, 6]])"
            ]
          },
          "metadata": {},
          "execution_count": 10
        }
      ]
    },
    {
      "cell_type": "code",
      "source": [
        "x.T"
      ],
      "metadata": {
        "colab": {
          "base_uri": "https://localhost:8080/"
        },
        "id": "JvV_wtkNQ5bm",
        "outputId": "9074cfec-4309-4efa-eaa6-89c01533209a"
      },
      "execution_count": null,
      "outputs": [
        {
          "output_type": "execute_result",
          "data": {
            "text/plain": [
              "array([[1, 4],\n",
              "       [2, 5],\n",
              "       [3, 6]])"
            ]
          },
          "metadata": {},
          "execution_count": 11
        }
      ]
    },
    {
      "cell_type": "code",
      "source": [
        "np.array([1,2,3,4,5,6]).reshape((2,3)).T"
      ],
      "metadata": {
        "colab": {
          "base_uri": "https://localhost:8080/"
        },
        "id": "s-luE7YhRAvp",
        "outputId": "899ab96f-2bd7-4145-eac3-622a16b6be29"
      },
      "execution_count": null,
      "outputs": [
        {
          "output_type": "execute_result",
          "data": {
            "text/plain": [
              "array([[1, 4],\n",
              "       [2, 5],\n",
              "       [3, 6]])"
            ]
          },
          "metadata": {},
          "execution_count": 12
        }
      ]
    },
    {
      "cell_type": "code",
      "source": [
        "x = np.diag([1,2,3])\n",
        "np.linalg.inv(x)"
      ],
      "metadata": {
        "colab": {
          "base_uri": "https://localhost:8080/"
        },
        "id": "Fe9uo2R1RUls",
        "outputId": "144ae541-a547-4113-f707-93f7f5305faf"
      },
      "execution_count": null,
      "outputs": [
        {
          "output_type": "execute_result",
          "data": {
            "text/plain": [
              "array([[1.        , 0.        , 0.        ],\n",
              "       [0.        , 0.5       , 0.        ],\n",
              "       [0.        , 0.        , 0.33333333]])"
            ]
          },
          "metadata": {},
          "execution_count": 13
        }
      ]
    },
    {
      "cell_type": "code",
      "source": [
        "x = np.ones((2,3)) * 2\n",
        "y = np.ones((2,3)) * 3\n",
        "np.concatenate((x, y), axis=1)"
      ],
      "metadata": {
        "colab": {
          "base_uri": "https://localhost:8080/"
        },
        "id": "29HYaaVyRyR1",
        "outputId": "f6105b06-80b9-46d9-93f9-702630c00a71"
      },
      "execution_count": null,
      "outputs": [
        {
          "output_type": "execute_result",
          "data": {
            "text/plain": [
              "array([[2., 2., 2., 3., 3., 3.],\n",
              "       [2., 2., 2., 3., 3., 3.]])"
            ]
          },
          "metadata": {},
          "execution_count": 14
        }
      ]
    },
    {
      "cell_type": "code",
      "source": [
        "np.concatenate((x, y), axis=0)"
      ],
      "metadata": {
        "colab": {
          "base_uri": "https://localhost:8080/"
        },
        "id": "vqmvPyTASWor",
        "outputId": "6d9f10b9-9698-4c30-d328-307191fd22c9"
      },
      "execution_count": null,
      "outputs": [
        {
          "output_type": "execute_result",
          "data": {
            "text/plain": [
              "array([[2., 2., 2.],\n",
              "       [2., 2., 2.],\n",
              "       [3., 3., 3.],\n",
              "       [3., 3., 3.]])"
            ]
          },
          "metadata": {},
          "execution_count": 15
        }
      ]
    },
    {
      "cell_type": "code",
      "source": [
        "x + y"
      ],
      "metadata": {
        "colab": {
          "base_uri": "https://localhost:8080/"
        },
        "id": "onbkyvJGTQig",
        "outputId": "c10c694e-d5b7-412d-a84f-80e588c17173"
      },
      "execution_count": null,
      "outputs": [
        {
          "output_type": "execute_result",
          "data": {
            "text/plain": [
              "array([[5., 5., 5.],\n",
              "       [5., 5., 5.]])"
            ]
          },
          "metadata": {},
          "execution_count": 16
        }
      ]
    },
    {
      "cell_type": "code",
      "source": [
        "x * y"
      ],
      "metadata": {
        "colab": {
          "base_uri": "https://localhost:8080/"
        },
        "id": "uR50X3hwS8oS",
        "outputId": "37d604ac-badd-4be8-cddd-a715de510d8e"
      },
      "execution_count": null,
      "outputs": [
        {
          "output_type": "execute_result",
          "data": {
            "text/plain": [
              "array([[6., 6., 6.],\n",
              "       [6., 6., 6.]])"
            ]
          },
          "metadata": {},
          "execution_count": 17
        }
      ]
    },
    {
      "cell_type": "code",
      "source": [
        "x @ y.T"
      ],
      "metadata": {
        "colab": {
          "base_uri": "https://localhost:8080/"
        },
        "id": "80n59GyqTGgv",
        "outputId": "66a51f8a-eb76-4215-c124-c67b75f79e8d"
      },
      "execution_count": null,
      "outputs": [
        {
          "output_type": "execute_result",
          "data": {
            "text/plain": [
              "array([[18., 18.],\n",
              "       [18., 18.]])"
            ]
          },
          "metadata": {},
          "execution_count": 18
        }
      ]
    },
    {
      "cell_type": "code",
      "source": [
        "x"
      ],
      "metadata": {
        "colab": {
          "base_uri": "https://localhost:8080/"
        },
        "id": "PZY6Gq1BTNg4",
        "outputId": "1fdf9249-64da-456f-b615-920fe70ae0e3"
      },
      "execution_count": null,
      "outputs": [
        {
          "output_type": "execute_result",
          "data": {
            "text/plain": [
              "array([[2., 2., 2.],\n",
              "       [2., 2., 2.]])"
            ]
          },
          "metadata": {},
          "execution_count": 19
        }
      ]
    },
    {
      "cell_type": "code",
      "source": [
        "np.matlib.repmat(x,2, 1)"
      ],
      "metadata": {
        "colab": {
          "base_uri": "https://localhost:8080/"
        },
        "id": "lgcUMsXUTuSC",
        "outputId": "550fd0c5-d2ee-4219-af3e-db431b31d0f7"
      },
      "execution_count": null,
      "outputs": [
        {
          "output_type": "execute_result",
          "data": {
            "text/plain": [
              "array([[2., 2., 2.],\n",
              "       [2., 2., 2.],\n",
              "       [2., 2., 2.],\n",
              "       [2., 2., 2.]])"
            ]
          },
          "metadata": {},
          "execution_count": 20
        }
      ]
    },
    {
      "cell_type": "markdown",
      "source": [
        "### How to use repmat to avoid writing loops\n",
        "\n",
        "Suppose there are 5 product and 10 consumers. Product $j$ has a characteristic $x_j$, consumer $i$ has characteristic $z_i$. Assume the value of the product $j$ to the consumer $i$ is $x_j * z_i$. How to construct the 5 * 10 value matrix?"
      ],
      "metadata": {
        "id": "Kywn2M0OVRYs"
      }
    },
    {
      "cell_type": "code",
      "source": [
        "X = np.array([i for i in range(5)])\n",
        "Z = np.array([i for i in range(10)])\n",
        "V = np.zeros((5,10))\n",
        "\n",
        "for i in range(len(X)):\n",
        "  for j in range(len(Z)):\n",
        "    V[i, j] = X[i] * Z[j]\n",
        "\n",
        "V"
      ],
      "metadata": {
        "colab": {
          "base_uri": "https://localhost:8080/"
        },
        "id": "bKkOjI2qW7cT",
        "outputId": "7f1ceba4-5ad2-42fe-9245-b483b02251b9"
      },
      "execution_count": null,
      "outputs": [
        {
          "output_type": "execute_result",
          "data": {
            "text/plain": [
              "array([[ 0.,  0.,  0.,  0.,  0.,  0.,  0.,  0.,  0.,  0.],\n",
              "       [ 0.,  1.,  2.,  3.,  4.,  5.,  6.,  7.,  8.,  9.],\n",
              "       [ 0.,  2.,  4.,  6.,  8., 10., 12., 14., 16., 18.],\n",
              "       [ 0.,  3.,  6.,  9., 12., 15., 18., 21., 24., 27.],\n",
              "       [ 0.,  4.,  8., 12., 16., 20., 24., 28., 32., 36.]])"
            ]
          },
          "metadata": {},
          "execution_count": 48
        }
      ]
    },
    {
      "cell_type": "code",
      "source": [
        "np.matlib.repmat(X.reshape((5,1)),1,10) * np.matlib.repmat(Z.reshape((1,10)),5,1)"
      ],
      "metadata": {
        "colab": {
          "base_uri": "https://localhost:8080/"
        },
        "id": "1ibXLXT9XSjb",
        "outputId": "9b88c1b9-a0ba-4f4a-ec11-a52c1b46ffc6"
      },
      "execution_count": null,
      "outputs": [
        {
          "output_type": "execute_result",
          "data": {
            "text/plain": [
              "array([[ 0,  0,  0,  0,  0,  0,  0,  0,  0,  0],\n",
              "       [ 0,  1,  2,  3,  4,  5,  6,  7,  8,  9],\n",
              "       [ 0,  2,  4,  6,  8, 10, 12, 14, 16, 18],\n",
              "       [ 0,  3,  6,  9, 12, 15, 18, 21, 24, 27],\n",
              "       [ 0,  4,  8, 12, 16, 20, 24, 28, 32, 36]])"
            ]
          },
          "metadata": {},
          "execution_count": 49
        }
      ]
    },
    {
      "cell_type": "markdown",
      "source": [
        "## Dynamic programming (cake-eating problem)\n",
        "The following codes are created by Prof. Kerry Back for BUSI 520\n",
        "\n",
        "maximize\n",
        "\n",
        "$$\\sum_{t=0}^\\infty \\delta^t \\sqrt{c_t}$$\n",
        "\n",
        "subject to\n",
        "\n",
        "$$\\sum_{t=0}^\\infty c_t  \\leq 1$$\n",
        "\n",
        "Dynamic programming: value function $v$, state variable $x$ with $x_{t+1} = x_t - c_t$, $x_0=1$.  Bellman equation:\n",
        "\n",
        "$$v(x) = \\max_{0 \\le c \\le x} \\sqrt{c} + \\delta v(x-c)$$"
      ],
      "metadata": {
        "id": "Afy6o5TvZ0nl"
      }
    },
    {
      "cell_type": "markdown",
      "source": [
        "### Value function iteration\n",
        "\n",
        "Start with an initial guess for $v$ on a grid.  Use it as the right-hand side of the Bellman equation.  Compute the max to get the left-hand side.  Use the new $v$ on the right-hand side and repeat until convergence.\n",
        "\n",
        "\n",
        "A small problem is that to compute the max, we want $v(x-c)$ defined for all $c\\leq x$, not just on the grid.  So, we interpolate linearly between grid points."
      ],
      "metadata": {
        "id": "IYHwcg8QcFo3"
      }
    },
    {
      "cell_type": "code",
      "source": [
        "delta = 0.9    # discount rate\n",
        "grid = np.linspace(0, 1, 100)\n",
        "\n",
        "def rhs(v, x):\n",
        "\n",
        "    # extend v to be defined on [0,1]\n",
        "    v = interp1d(grid, v)\n",
        "\n",
        "    # write maximization objective as minimization objective\n",
        "    obj = lambda c: - np.sqrt(c) - delta * v(x-c)\n",
        "\n",
        "    # solve the minimization problem\n",
        "    result = minimize_scalar(obj, bounds=(0, x), method=\"bounded\")\n",
        "\n",
        "    # return the value at the optimum\n",
        "    return - result.fun"
      ],
      "metadata": {
        "id": "6fHsAfPzcE34"
      },
      "execution_count": null,
      "outputs": []
    },
    {
      "cell_type": "markdown",
      "source": [
        "Now we can define the contraction map."
      ],
      "metadata": {
        "id": "LDK7GX_KcWIu"
      }
    },
    {
      "cell_type": "code",
      "source": [
        "def cmap(v):\n",
        "   \n",
        "    # convert the rhs function to operate on an array (in x)\n",
        "    rhs_u = np.frompyfunc(lambda x: rhs(v,x), 1, 1)\n",
        "\n",
        "    # apply the rhs function to get the LHS of Bellman equation\n",
        "    newv = rhs_u(grid)\n",
        "\n",
        "    # return the new v and also how far apart the two v's are\n",
        "    return newv, np.mean((newv-v)**2)"
      ],
      "metadata": {
        "id": "EuFxvBNNcWTK"
      },
      "execution_count": null,
      "outputs": []
    },
    {
      "cell_type": "code",
      "source": [
        "# initialize the iteration\n",
        "v = np.zeros(len(grid))\n",
        "\n",
        "# set tolerance and maximum number of iterations\n",
        "tol = 1.0e-10\n",
        "maxiters = 100\n",
        "\n",
        "# initialize error and counter for iterations\n",
        "err = 1\n",
        "iter = 0\n",
        "\n",
        "# run the loop\n",
        "while (err > tol) and (iter < maxiters):\n",
        "    v, err = cmap(v)\n",
        "    iter += 1\n",
        "\n",
        "plt.plot(grid, v)"
      ],
      "metadata": {
        "colab": {
          "base_uri": "https://localhost:8080/",
          "height": 282
        },
        "id": "vq3KseQPcdZT",
        "outputId": "787251ce-570f-4750-ff02-ad77e8f85b75"
      },
      "execution_count": null,
      "outputs": [
        {
          "output_type": "execute_result",
          "data": {
            "text/plain": [
              "[<matplotlib.lines.Line2D at 0x7f3e0fac7090>]"
            ]
          },
          "metadata": {},
          "execution_count": 58
        },
        {
          "output_type": "display_data",
          "data": {
            "text/plain": [
              "<Figure size 432x288 with 1 Axes>"
            ],
            "image/png": "[encoded data removed]"
          },
          "metadata": {
            "needs_background": "light"
          }
        }
      ]
    },
    {
      "cell_type": "code",
      "source": [],
      "metadata": {
        "id": "KhXez6YmdN68"
      },
      "execution_count": null,
      "outputs": []
    }
  ]
}